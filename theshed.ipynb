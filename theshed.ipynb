{
 "cells": [
  {
   "cell_type": "code",
   "execution_count": 1,
   "metadata": {},
   "outputs": [],
   "source": [
    "import requests\n",
    "from selenium import webdriver\n",
    "import time"
   ]
  },
  {
   "cell_type": "code",
   "execution_count": 2,
   "metadata": {},
   "outputs": [],
   "source": [
    "SHED_URL = r\"https://outlook.office365.com/owa/calendar/Pomona-PitzerAthletics@mymail.pomona.edu/bookings/\""
   ]
  },
  {
   "cell_type": "code",
   "execution_count": 3,
   "metadata": {},
   "outputs": [],
   "source": [
    "def get_form(url):\n",
    "\n",
    "  \n",
    "    # --------------------------\n",
    "    # Setting class names and xpaths to elements\n",
    "    time_picker = \"focusable_timePicker\"\n",
    "    time_picker_xpath = r\"/html/body/div/div/form/div[6]/div[2]/div/div/ul\"\n",
    "\n",
    "    name_class = \"flex-item\"\n",
    "    name_class_xpath = r\"/html/body/div/div/form/div[7]/div/div/div[1]/input[1]\"\n",
    "\n",
    "    email_class = \"customerPhone\"\n",
    "    email_class_xpath = r\"/html/body/div/div/form/div[7]/div/div/div[1]/input[2]\"\n",
    "\n",
    "    phone_class_xpath = r\"/html/body/div/div/form/div[7]/div/div/div[1]/div/input\"\n",
    "\n",
    "    kin_xpath = \"//*[@id='9dea3353-c574-4440-be15-1f6d4c9a06d5']\"\n",
    "    kin_num_xpath = \"//*[@id='ed88852e-ea57-4adc-a0b6-07eb2b6f4d3f']\"\n",
    "    \n",
    "    check_box_xpath = \"//*[@id='consentCheckBox']\"\n",
    "    submit_class = \"bookButton\"\n",
    "    submit_xpath = \"/html/body/div/div/form/div[9]/button\"\n",
    "\n",
    "    # -------------------------\n",
    "\n",
    "    # Start selenium chrome session\n",
    "    driver = webdriver.Chrome(executable_path=\"C:\\Windows\\chromedriver.exe\") # Define chromedriver path, hardcoded\n",
    "\n",
    "    \n",
    "    driver.get(url) # Get page\n",
    "    time.sleep(5) # Wait so the page laods\n",
    "\n",
    "    # Get timetable\n",
    "    timetable = driver.find_element_by_xpath(time_picker_xpath)\n",
    "\n",
    "    #Get list of timeslots from timetable\n",
    "    options  = timetable.find_elements_by_tag_name(\"li\")\n",
    "\n",
    "    print(f\"| {'-times-' : ^10} |\")\n",
    "    print(f\"{'--------------' : ^}\")\n",
    "\n",
    "    timedict = dict()\n",
    "    for index, timeslot in enumerate(options):\n",
    "        # get timeslot text label\n",
    "        hour = timeslot.find_elements_by_tag_name(\"span\")\n",
    "        hourtext = hour[0].text\n",
    "        print(f\"| {hourtext: ^10} |\")\n",
    "        timedict[hourtext] = timeslot\n",
    "\n",
    "\n",
    "    # Get user choice on which time to pick\n",
    "    user_choice_time = input(\"Choose time, raw number: \").strip()\n",
    "    user_choice_ampm = input(\"Choose am or pm: \").lower().strip()\n",
    "\n",
    "    \n",
    "    # format user input string\n",
    "    string_format = f'{user_choice_time}:00 {user_choice_ampm}'\n",
    "\n",
    "\n",
    "    timedict[string_format].click() # Click on the chosen time\n",
    "\n",
    "    # Instantiating WebElement objects\n",
    "    name_field = driver.find_element_by_xpath(name_class_xpath)\n",
    "    email_field = driver.find_element_by_xpath(email_class_xpath)\n",
    "    phone_field = driver.find_element_by_xpath(phone_class_xpath)\n",
    "    kin_field = driver.find_element_by_xpath(kin_xpath)\n",
    "    kin_num_field = driver.find_element_by_xpath(kin_num_xpath)\n",
    "    checkbox_field = driver.find_element_by_xpath(check_box_xpath)\n",
    "    submit_field = driver.find_element_by_xpath(submit_xpath)\n",
    "\n",
    "    # Filling in and clicking fields\n",
    "    name_field.send_keys(\"Austin Zang\")\n",
    "    email_field.send_keys(\"ayza2020@mymail.pomona.edu\")\n",
    "    phone_field.send_keys(\"214-862-6518\")\n",
    "    kin_field.send_keys(\"x\")\n",
    "    kin_num_field.send_keys(\"214-793-2358\")\n",
    "    checkbox_field.click()\n",
    "\n",
    "    # Submit form!! careful\n",
    "    submit_field.click()\n",
    "\n",
    "    driver.close()\n",
    "\n",
    "    print(\"Booking complete! Enjoy\")\n"
   ]
  },
  {
   "cell_type": "code",
   "execution_count": 4,
   "metadata": {},
   "outputs": [
    {
     "name": "stderr",
     "output_type": "stream",
     "text": [
      "C:\\Users\\austi\\AppData\\Local\\Temp\\ipykernel_39296\\2350194900.py:30: DeprecationWarning: executable_path has been deprecated, please pass in a Service object\n",
      "  driver = webdriver.Chrome(executable_path=\"C:\\Windows\\chromedriver.exe\") # Define chromedriver path, hardcoded\n",
      "C:\\Users\\austi\\AppData\\Local\\Temp\\ipykernel_39296\\2350194900.py:37: DeprecationWarning: find_element_by_* commands are deprecated. Please use find_element() instead\n",
      "  timetable = driver.find_element_by_xpath(time_picker_xpath)\n",
      "C:\\Users\\austi\\AppData\\Local\\Programs\\Python\\Python39\\lib\\site-packages\\selenium\\webdriver\\remote\\webelement.py:359: UserWarning: find_elements_by_* commands are deprecated. Please use find_elements() instead\n",
      "  warnings.warn(\"find_elements_by_* commands are deprecated. Please use find_elements() instead\")\n"
     ]
    },
    {
     "name": "stdout",
     "output_type": "stream",
     "text": [
      "|  -times-   |\n",
      "--------------\n",
      "|  7:00 am   |\n",
      "|  8:00 am   |\n",
      "|  9:00 am   |\n",
      "|  10:00 am  |\n",
      "|  11:00 am  |\n",
      "|  12:00 pm  |\n",
      "|  1:00 pm   |\n",
      "|  2:00 pm   |\n",
      "|  3:00 pm   |\n",
      "|  4:00 pm   |\n",
      "|  5:00 pm   |\n",
      "|  6:00 pm   |\n",
      "|  7:00 pm   |\n"
     ]
    },
    {
     "name": "stderr",
     "output_type": "stream",
     "text": [
      "C:\\Users\\austi\\AppData\\Local\\Temp\\ipykernel_39296\\2350194900.py:60: DeprecationWarning: find_element_by_* commands are deprecated. Please use find_element() instead\n",
      "  name_field = driver.find_element_by_xpath(name_class_xpath)\n",
      "C:\\Users\\austi\\AppData\\Local\\Temp\\ipykernel_39296\\2350194900.py:61: DeprecationWarning: find_element_by_* commands are deprecated. Please use find_element() instead\n",
      "  email_field = driver.find_element_by_xpath(email_class_xpath)\n",
      "C:\\Users\\austi\\AppData\\Local\\Temp\\ipykernel_39296\\2350194900.py:62: DeprecationWarning: find_element_by_* commands are deprecated. Please use find_element() instead\n",
      "  phone_field = driver.find_element_by_xpath(phone_class_xpath)\n",
      "C:\\Users\\austi\\AppData\\Local\\Temp\\ipykernel_39296\\2350194900.py:63: DeprecationWarning: find_element_by_* commands are deprecated. Please use find_element() instead\n",
      "  kin_field = driver.find_element_by_xpath(kin_xpath)\n",
      "C:\\Users\\austi\\AppData\\Local\\Temp\\ipykernel_39296\\2350194900.py:64: DeprecationWarning: find_element_by_* commands are deprecated. Please use find_element() instead\n",
      "  kin_num_field = driver.find_element_by_xpath(kin_num_xpath)\n",
      "C:\\Users\\austi\\AppData\\Local\\Temp\\ipykernel_39296\\2350194900.py:65: DeprecationWarning: find_element_by_* commands are deprecated. Please use find_element() instead\n",
      "  checkbox_field = driver.find_element_by_xpath(check_box_xpath)\n",
      "C:\\Users\\austi\\AppData\\Local\\Temp\\ipykernel_39296\\2350194900.py:66: DeprecationWarning: find_element_by_* commands are deprecated. Please use find_element() instead\n",
      "  submit_field = driver.find_element_by_xpath(submit_xpath)\n"
     ]
    },
    {
     "name": "stdout",
     "output_type": "stream",
     "text": [
      "Booking complete! Enjoy\n"
     ]
    }
   ],
   "source": [
    "get_form(SHED_URL)"
   ]
  }
 ],
 "metadata": {
  "interpreter": {
   "hash": "2a6cff3cdd7fef4142d18baf1e5dd979793413ed341fd7e6947b0b1ceb357ed3"
  },
  "kernelspec": {
   "display_name": "Python 3.9.7 64-bit",
   "language": "python",
   "name": "python3"
  },
  "language_info": {
   "codemirror_mode": {
    "name": "ipython",
    "version": 3
   },
   "file_extension": ".py",
   "mimetype": "text/x-python",
   "name": "python",
   "nbconvert_exporter": "python",
   "pygments_lexer": "ipython3",
   "version": "3.9.7"
  },
  "orig_nbformat": 4
 },
 "nbformat": 4,
 "nbformat_minor": 2
}
